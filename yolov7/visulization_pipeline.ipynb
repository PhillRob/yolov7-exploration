{
 "cells": [
  {
   "cell_type": "code",
   "execution_count": 3,
   "metadata": {
    "colab": {
     "base_uri": "https://localhost:8080/"
    },
    "executionInfo": {
     "elapsed": 9045,
     "status": "ok",
     "timestamp": 1669615308471,
     "user": {
      "displayName": "Dev Kshatrainfotech",
      "userId": "00316704694514822481"
     },
     "user_tz": -330
    },
    "id": "7Wj71eoo5xSh",
    "outputId": "974540fa-3a20-47c7-a1a2-de2557766f71"
   },
   "outputs": [
    {
     "name": "stdout",
     "output_type": "stream",
     "text": [
      "\u001b[K     |████████████████████████████████| 19.3 MB 531 kB/s \n",
      "\u001b[?25h"
     ]
    }
   ],
   "source": [
    "# !pip install -q rasterio\n",
    "# !pip install -q gdal"
   ]
  },
  {
   "cell_type": "code",
   "execution_count": 6,
   "metadata": {
    "executionInfo": {
     "elapsed": 3390,
     "status": "ok",
     "timestamp": 1669615329146,
     "user": {
      "displayName": "Dev Kshatrainfotech",
      "userId": "00316704694514822481"
     },
     "user_tz": -330
    },
    "id": "KgqMavc25yCp"
   },
   "outputs": [],
   "source": [
    "import numpy as np\n",
    "import rasterio\n",
    "from rasterio.plot import show\n",
    "from rasterio.windows import Window\n",
    "import cv2\n",
    "import numpy as np\n",
    "from matplotlib import pyplot as plt\n",
    "import torch\n",
    "import json\n",
    "import glob\n",
    "import os\n",
    "from osgeo import gdal"
   ]
  },
  {
   "cell_type": "code",
   "execution_count": 7,
   "metadata": {
    "executionInfo": {
     "elapsed": 13,
     "status": "ok",
     "timestamp": 1669615329151,
     "user": {
      "displayName": "Dev Kshatrainfotech",
      "userId": "00316704694514822481"
     },
     "user_tz": -330
    },
    "id": "KzG5hGGx54_S"
   },
   "outputs": [],
   "source": [
    "class draw_bbox(): # Class For Showing Bounding Box Of Generated Geojson File.\n",
    "    def __init__(self):\n",
    "        pass\n",
    "\n",
    "\n",
    "    def show1(self, img):\n",
    "        plt.figure(figsize=(9,13))\n",
    "        plt.axis(\"off\")\n",
    "        plt.imshow(cv2.cvtColor(img, cv2.COLOR_BGR2RGB))\n",
    "        plt.show()\n",
    "\n",
    "\n",
    "# ---------------------------------------------\n",
    "    def saving_coordinates(self, json_path):\n",
    "        data = json.load(open(json_path))\n",
    "        final_data = []\n",
    "        for i in data[\"features\"]:\n",
    "          tmp = {\"id\": \"\",\n",
    "                  \"boxes\": \"\"}\n",
    "          id_ = i[\"id\"]\n",
    "          box_coordinates = i[\"coordinates\"][::-1]\n",
    "          tmp[\"id\"], tmp[\"boxes\"] = id_, box_coordinates\n",
    "          final_data.append(tmp)\n",
    "        return final_data\n",
    "    \n",
    "    \n",
    "    def read_coordinates(self, json_path):\n",
    "        data = json.load(open(json_path))\n",
    "        final_data = []\n",
    "        for i in data[\"features\"]:\n",
    "            tmp = {\"id\": \"\",\n",
    "                  \"boxes\": \"\"}\n",
    "            id_ = i[\"properties\"][\"id\"]\n",
    "            box_coordinates = i[\"geometry\"][\"coordinates\"][0][:4]\n",
    "            tmp[\"id\"], tmp[\"boxes\"] = id_, box_coordinates\n",
    "            final_data.append(tmp)\n",
    "        return final_data\n",
    "    \n",
    "    \n",
    "    \n",
    "# ---------------------------------------------\n",
    "\n",
    "    def get_all_boxes(self, final_list, start_x, end_x, start_y, end_y):\n",
    "        \n",
    "        fetched_bbox = []\n",
    "        for i in final_list:\n",
    "            tmp = {\"id\": \"\",\n",
    "                \"boxes\": \"\"}\n",
    "            if (i[\"boxes\"][0][0] >= start_x and i[\"boxes\"][2][0] <= end_x) and (i[\"boxes\"][0][1] >= end_y and i[\"boxes\"][2][1] <= start_y):\n",
    "                tmp[\"id\"], tmp[\"boxes\"] = i[\"id\"], i[\"boxes\"]\n",
    "                fetched_bbox.append(tmp)  \n",
    "        return fetched_bbox\n",
    "\n",
    "\n",
    "    def get_img_pixel_from_json(self, fetched_bbox_list, meta):\n",
    "        converted_data = []\n",
    "        for i in fetched_bbox_list:\n",
    "            tmp = {\"id\": \"\",\n",
    "                \"boxes\": \"\"}\n",
    "            tmp[\"id\"] = i[\"id\"]\n",
    "            dd = []\n",
    "            for k in i[\"boxes\"]:\n",
    "                x_coord = k[0]\n",
    "                y_coord = k[1]\n",
    "\n",
    "                rowcol = rasterio.transform.rowcol(meta['transform'], xs=x_coord, ys=y_coord)\n",
    "                y = rowcol[0]\n",
    "                x = rowcol[1]\n",
    "                dd.append([x,y])\n",
    "            tmp[\"boxes\"] = dd\n",
    "            converted_data.append(tmp)\n",
    "        return converted_data\n",
    "\n",
    "\n",
    "\n",
    "    def convert_img_array(self, data, final_list, start_x, start_y, step_x, step_y):\n",
    "        flag = False\n",
    "        end_x = start_x + step_x\n",
    "        end_y = start_y + step_y\n",
    "        data = torch.from_numpy(data)\n",
    "        data=data.permute(1, 2, 0)\n",
    "        data = data.numpy()\n",
    "        data = cv2.cvtColor(data, cv2.COLOR_BGR2RGB)\n",
    "    \n",
    "        for i in final_list:\n",
    "            if (i[\"boxes\"][3][0] >= start_x) and (i[\"boxes\"][1][0] <= end_x) and (i[\"boxes\"][3][1] >= start_y) and (i[\"boxes\"][1][1] <= end_y):\n",
    "                x0 = i[\"boxes\"][3][0] - start_x\n",
    "                y0 = i[\"boxes\"][3][1] - start_y\n",
    "                x2 = i[\"boxes\"][1][0] - start_x\n",
    "                y2 = i[\"boxes\"][1][1] - start_y\n",
    "                bbox_width = x2 - x0\n",
    "                bbox_height = y2 - y0\n",
    "                cv2.rectangle(data, (x0,y0), (x0+bbox_width, y0+bbox_height), (255,0,0), 3)\n",
    "                if flag == False:\n",
    "                    flag = True\n",
    "            else:\n",
    "                pass\n",
    "        return data, flag\n",
    "\n",
    "\n",
    "\n",
    "    def crop_and_draw_bbox(self, height, width, crop_size, converted_data, dataset, saving_path, show_box):\n",
    "        cnt = 0\n",
    "        step = crop_size\n",
    "        width_cut = crop_size\n",
    "        height_cut = crop_size\n",
    "\n",
    "        for col in range(0, height, step):\n",
    "            if col + step >= height:\n",
    "                height_cut = height - col\n",
    "\n",
    "            for row in range(0, width, step):\n",
    "                if row+width_cut >= width:\n",
    "                    final_cut = width - row\n",
    "                    data = dataset.read([1,2,3], window=Window(row, col, final_cut, height_cut))\n",
    "                    final_img, flag = self.convert_img_array(data, converted_data, row, col, final_cut, height_cut)\n",
    "                    if flag != False:\n",
    "                        if show_box == True:\n",
    "                            self.show1(final_img)\n",
    "                            cv2.imwrite(f'{saving_path}/img_{cnt}.png', final_img)\n",
    "                        else:\n",
    "                            cv2.imwrite(f'{saving_path}/img_{cnt}.png', final_img)\n",
    "                    cnt += 1\n",
    "\n",
    "                else:\n",
    "                    data = dataset.read([1,2,3], window=Window(row, col, width_cut, height_cut))\n",
    "                    final_img, flag = self.convert_img_array(data, converted_data, row, col, width_cut, height_cut)\n",
    "                    if flag != False:\n",
    "                        if show_box == True:\n",
    "                            self.show1(final_img)\n",
    "                            cv2.imwrite(f'{saving_path}/img_{cnt}.png', final_img)\n",
    "                        else:\n",
    "                            cv2.imwrite(f'{saving_path}/img_{cnt}.png', final_img)\n",
    "                    cnt += 1\n",
    "\n",
    "\n",
    "\n",
    "\n",
    "    def main(self, tiff_file_path, geojson_file_path, img_saving_path, cropping_size = 1500, show_bbox = False):\n",
    "        if not os.path.exists(img_saving_path):\n",
    "            print(\"Not Found Image Saving Path... \\n Created Image Saving Path...\")\n",
    "            os.makedirs(img_saving_path)\n",
    "        cnt_ = 0\n",
    "        tiff_file = tiff_file_path\n",
    "        ds = gdal.Open(tiff_file)\n",
    "        dataset = rasterio.open(tiff_file)\n",
    "        meta_ = dataset.meta\n",
    "\n",
    "        width = ds.RasterXSize\n",
    "        height = ds.RasterYSize\n",
    "\n",
    "        print(\"Height = \", height, \"Width =\", width)\n",
    "        gt = ds.GetGeoTransform()\n",
    "\n",
    "        minx = gt[0]\n",
    "        miny = gt[3]\n",
    "        maxy = gt[3] + width*gt[4] + height*gt[5] \n",
    "        maxx = gt[0] + width*gt[1] + height*gt[2]\n",
    "        \n",
    "        try:\n",
    "            final_list = self.read_coordinates(geojson_file_path)\n",
    "            print(\"Approaching First Format\")\n",
    "        except:\n",
    "            final_list = self.saving_coordinates(geojson_file_path)\n",
    "            print(\"Approaching Second Format\")\n",
    "        \n",
    "        fetched_bbox = self.get_all_boxes(final_list, minx, maxx, miny, maxy)\n",
    "        converted_data = self.get_img_pixel_from_json(fetched_bbox, meta_)\n",
    "        self.crop_and_draw_bbox(height, width, cropping_size, converted_data, dataset, img_saving_path, show_bbox)"
   ]
  },
  {
   "cell_type": "code",
   "execution_count": 6,
   "metadata": {
    "executionInfo": {
     "elapsed": 533,
     "status": "ok",
     "timestamp": 1669615387078,
     "user": {
      "displayName": "Dev Kshatrainfotech",
      "userId": "00316704694514822481"
     },
     "user_tz": -330
    },
    "id": "YxOLFGof6Uqt"
   },
   "outputs": [],
   "source": [
    "tiff_file1 = \"tiff_files/NamarDaharat2_Orthomosaic_export_TueAug23092831065915.tif\" # Tif File Path \n",
    "geo_data = \"generated_geo_files/NamarDaharat2_Orthomosaic_export_TueAug23092831065915.geojson\" # Generated Geojson File Path \n",
    "\n",
    "\n",
    "save_path = \"saved_img\" # Saving Path where images will be saved with drawed bounding boxes.\n",
    "\n"
   ]
  },
  {
   "cell_type": "code",
   "execution_count": 7,
   "metadata": {
    "colab": {
     "base_uri": "https://localhost:8080/",
     "height": 1000,
     "output_embedded_package_id": "15gXy63H48h_rhcyQ_EPwN8XBgqr-g1t1"
    },
    "executionInfo": {
     "elapsed": 29905,
     "status": "error",
     "timestamp": 1669615421025,
     "user": {
      "displayName": "Dev Kshatrainfotech",
      "userId": "00316704694514822481"
     },
     "user_tz": -330
    },
    "id": "k00RYrq4733v",
    "outputId": "e6ff4f8c-8711-4ff7-9a70-8ca2df7b6e4c"
   },
   "outputs": [
    {
     "data": {
      "text/plain": [
       "Output hidden; open in https://colab.research.google.com to view."
      ]
     },
     "metadata": {},
     "output_type": "display_data"
    }
   ],
   "source": [
    "obj = draw_bbox() \n",
    "obj.main(tiff_file1, geo_data, save_path, cropping_size = 1500, show_bbox = True) # default cropping_size = 1500, show_bbox = True"
   ]
  },
  {
   "cell_type": "code",
   "execution_count": null,
   "metadata": {
    "id": "o0PYDblTESxl"
   },
   "outputs": [],
   "source": []
  }
 ],
 "metadata": {
  "accelerator": "GPU",
  "colab": {
   "authorship_tag": "ABX9TyNufFfj5U4isuWvAqdvCxpA",
   "provenance": []
  },
  "gpuClass": "standard",
  "kernelspec": {
   "display_name": "Python 3",
   "language": "python",
   "name": "python3"
  },
  "language_info": {
   "codemirror_mode": {
    "name": "ipython",
    "version": 3
   },
   "file_extension": ".py",
   "mimetype": "text/x-python",
   "name": "python",
   "nbconvert_exporter": "python",
   "pygments_lexer": "ipython3",
   "version": "3.7.6"
  }
 },
 "nbformat": 4,
 "nbformat_minor": 4
}
